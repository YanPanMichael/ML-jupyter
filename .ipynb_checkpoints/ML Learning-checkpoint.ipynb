{
 "cells": [
  {
   "cell_type": "code",
   "execution_count": 1,
   "metadata": {},
   "outputs": [],
   "source": [
    "###aaaa"
   ]
  },
  {
   "cell_type": "code",
   "execution_count": 2,
   "metadata": {},
   "outputs": [],
   "source": [
    "### %run"
   ]
  },
  {
   "cell_type": "code",
   "execution_count": 3,
   "metadata": {},
   "outputs": [
    {
     "name": "stdout",
     "output_type": "stream",
     "text": [
      "hello Tim\n"
     ]
    }
   ],
   "source": [
    "def hello(name):\n",
    "    print('hello', name)\n",
    "hello(\"Tim\")"
   ]
  },
  {
   "cell_type": "code",
   "execution_count": 4,
   "metadata": {},
   "outputs": [
    {
     "name": "stderr",
     "output_type": "stream",
     "text": [
      "ERROR:root:File `'hello.py'` not found.\n"
     ]
    }
   ],
   "source": [
    "%run hello.py"
   ]
  },
  {
   "cell_type": "markdown",
   "metadata": {},
   "source": [
    "## timeit"
   ]
  },
  {
   "cell_type": "code",
   "execution_count": 6,
   "metadata": {},
   "outputs": [
    {
     "name": "stdout",
     "output_type": "stream",
     "text": [
      "293 ms ± 10.5 ms per loop (mean ± std. dev. of 7 runs, 1 loop each)\n"
     ]
    }
   ],
   "source": [
    "%timeit L = [i**2 for i in range(1000000)]"
   ]
  },
  {
   "cell_type": "code",
   "execution_count": 7,
   "metadata": {},
   "outputs": [
    {
     "name": "stdout",
     "output_type": "stream",
     "text": [
      "26.3 µs ± 1.13 µs per loop (mean ± std. dev. of 7 runs, 10000 loops each)\n"
     ]
    }
   ],
   "source": [
    "%timeit L = [i**2 for i in range(100)]"
   ]
  },
  {
   "cell_type": "code",
   "execution_count": 9,
   "metadata": {},
   "outputs": [
    {
     "name": "stdout",
     "output_type": "stream",
     "text": [
      "CPU times: user 40 µs, sys: 1e+03 ns, total: 41 µs\n",
      "Wall time: 42.9 µs\n"
     ]
    }
   ],
   "source": [
    "%time L = [i**2 for i in range(100)]"
   ]
  },
  {
   "cell_type": "code",
   "execution_count": 7,
   "metadata": {},
   "outputs": [
    {
     "name": "stdout",
     "output_type": "stream",
     "text": [
      "26.3 µs ± 1.13 µs per loop (mean ± std. dev. of 7 runs, 10000 loops each)\n"
     ]
    }
   ],
   "source": [
    "%timeit L = [i**2 for i in range(100)]"
   ]
  },
  {
   "cell_type": "code",
   "execution_count": null,
   "metadata": {},
   "outputs": [],
   "source": []
  },
  {
   "cell_type": "markdown",
   "metadata": {},
   "source": [
    "## hhh"
   ]
  },
  {
   "cell_type": "code",
   "execution_count": 8,
   "metadata": {},
   "outputs": [
    {
     "name": "stdout",
     "output_type": "stream",
     "text": [
      "319 µs ± 6.98 µs per loop (mean ± std. dev. of 7 runs, 1000 loops each)\n"
     ]
    }
   ],
   "source": [
    "%%timeit\n",
    "L = []\n",
    "for n in range(1000):\n",
    "    L.append(n**2)"
   ]
  },
  {
   "cell_type": "code",
   "execution_count": 10,
   "metadata": {},
   "outputs": [
    {
     "name": "stdout",
     "output_type": "stream",
     "text": [
      "CPU times: user 471 µs, sys: 1e+03 ns, total: 472 µs\n",
      "Wall time: 474 µs\n"
     ]
    }
   ],
   "source": [
    "%%time\n",
    "L = []\n",
    "for n in range(1000):\n",
    "    L.append(n**2)"
   ]
  },
  {
   "cell_type": "code",
   "execution_count": 12,
   "metadata": {},
   "outputs": [],
   "source": [
    "import random\n",
    "L = [random.random() for i in range(1000)]"
   ]
  },
  {
   "cell_type": "code",
   "execution_count": 14,
   "metadata": {
    "scrolled": true
   },
   "outputs": [
    {
     "name": "stderr",
     "output_type": "stream",
     "text": [
      "UsageError: %%timeit is a cell magic, but the cell body is empty. Did you mean the line magic %timeit (single %)?\n"
     ]
    }
   ],
   "source": [
    "%%timeit L.sort()"
   ]
  },
  {
   "cell_type": "code",
   "execution_count": 15,
   "metadata": {
    "scrolled": true
   },
   "outputs": [
    {
     "name": "stdout",
     "output_type": "stream",
     "text": [
      "2.93 µs ± 114 ns per loop (mean ± std. dev. of 7 runs, 100000 loops each)\n"
     ]
    }
   ],
   "source": [
    "%timeit L.sort()"
   ]
  },
  {
   "cell_type": "code",
   "execution_count": 16,
   "metadata": {},
   "outputs": [
    {
     "name": "stdout",
     "output_type": "stream",
     "text": [
      "2.82 µs ± 76.5 ns per loop (mean ± std. dev. of 7 runs, 100000 loops each)\n"
     ]
    }
   ],
   "source": [
    "%timeit L.sort()"
   ]
  },
  {
   "cell_type": "code",
   "execution_count": 17,
   "metadata": {},
   "outputs": [
    {
     "data": {
      "application/json": {
       "cell": {
        "!": "OSMagics",
        "HTML": "Other",
        "SVG": "Other",
        "bash": "Other",
        "capture": "ExecutionMagics",
        "debug": "ExecutionMagics",
        "file": "Other",
        "html": "DisplayMagics",
        "javascript": "DisplayMagics",
        "js": "DisplayMagics",
        "latex": "DisplayMagics",
        "markdown": "DisplayMagics",
        "perl": "Other",
        "prun": "ExecutionMagics",
        "pypy": "Other",
        "python": "Other",
        "python2": "Other",
        "python3": "Other",
        "ruby": "Other",
        "script": "ScriptMagics",
        "sh": "Other",
        "svg": "DisplayMagics",
        "sx": "OSMagics",
        "system": "OSMagics",
        "time": "ExecutionMagics",
        "timeit": "ExecutionMagics",
        "writefile": "OSMagics"
       },
       "line": {
        "alias": "OSMagics",
        "alias_magic": "BasicMagics",
        "autoawait": "AsyncMagics",
        "autocall": "AutoMagics",
        "automagic": "AutoMagics",
        "autosave": "KernelMagics",
        "bookmark": "OSMagics",
        "cat": "Other",
        "cd": "OSMagics",
        "clear": "KernelMagics",
        "colors": "BasicMagics",
        "conda": "PackagingMagics",
        "config": "ConfigMagics",
        "connect_info": "KernelMagics",
        "cp": "Other",
        "debug": "ExecutionMagics",
        "dhist": "OSMagics",
        "dirs": "OSMagics",
        "doctest_mode": "BasicMagics",
        "ed": "Other",
        "edit": "KernelMagics",
        "env": "OSMagics",
        "gui": "BasicMagics",
        "hist": "Other",
        "history": "HistoryMagics",
        "killbgscripts": "ScriptMagics",
        "ldir": "Other",
        "less": "KernelMagics",
        "lf": "Other",
        "lk": "Other",
        "ll": "Other",
        "load": "CodeMagics",
        "load_ext": "ExtensionMagics",
        "loadpy": "CodeMagics",
        "logoff": "LoggingMagics",
        "logon": "LoggingMagics",
        "logstart": "LoggingMagics",
        "logstate": "LoggingMagics",
        "logstop": "LoggingMagics",
        "ls": "Other",
        "lsmagic": "BasicMagics",
        "lx": "Other",
        "macro": "ExecutionMagics",
        "magic": "BasicMagics",
        "man": "KernelMagics",
        "matplotlib": "PylabMagics",
        "mkdir": "Other",
        "more": "KernelMagics",
        "mv": "Other",
        "notebook": "BasicMagics",
        "page": "BasicMagics",
        "pastebin": "CodeMagics",
        "pdb": "ExecutionMagics",
        "pdef": "NamespaceMagics",
        "pdoc": "NamespaceMagics",
        "pfile": "NamespaceMagics",
        "pinfo": "NamespaceMagics",
        "pinfo2": "NamespaceMagics",
        "pip": "PackagingMagics",
        "popd": "OSMagics",
        "pprint": "BasicMagics",
        "precision": "BasicMagics",
        "prun": "ExecutionMagics",
        "psearch": "NamespaceMagics",
        "psource": "NamespaceMagics",
        "pushd": "OSMagics",
        "pwd": "OSMagics",
        "pycat": "OSMagics",
        "pylab": "PylabMagics",
        "qtconsole": "KernelMagics",
        "quickref": "BasicMagics",
        "recall": "HistoryMagics",
        "rehashx": "OSMagics",
        "reload_ext": "ExtensionMagics",
        "rep": "Other",
        "rerun": "HistoryMagics",
        "reset": "NamespaceMagics",
        "reset_selective": "NamespaceMagics",
        "rm": "Other",
        "rmdir": "Other",
        "run": "ExecutionMagics",
        "save": "CodeMagics",
        "sc": "OSMagics",
        "set_env": "OSMagics",
        "store": "StoreMagics",
        "sx": "OSMagics",
        "system": "OSMagics",
        "tb": "ExecutionMagics",
        "time": "ExecutionMagics",
        "timeit": "ExecutionMagics",
        "unalias": "OSMagics",
        "unload_ext": "ExtensionMagics",
        "who": "NamespaceMagics",
        "who_ls": "NamespaceMagics",
        "whos": "NamespaceMagics",
        "xdel": "NamespaceMagics",
        "xmode": "BasicMagics"
       }
      },
      "text/plain": [
       "Available line magics:\n",
       "%alias  %alias_magic  %autoawait  %autocall  %automagic  %autosave  %bookmark  %cat  %cd  %clear  %colors  %conda  %config  %connect_info  %cp  %debug  %dhist  %dirs  %doctest_mode  %ed  %edit  %env  %gui  %hist  %history  %killbgscripts  %ldir  %less  %lf  %lk  %ll  %load  %load_ext  %loadpy  %logoff  %logon  %logstart  %logstate  %logstop  %ls  %lsmagic  %lx  %macro  %magic  %man  %matplotlib  %mkdir  %more  %mv  %notebook  %page  %pastebin  %pdb  %pdef  %pdoc  %pfile  %pinfo  %pinfo2  %pip  %popd  %pprint  %precision  %prun  %psearch  %psource  %pushd  %pwd  %pycat  %pylab  %qtconsole  %quickref  %recall  %rehashx  %reload_ext  %rep  %rerun  %reset  %reset_selective  %rm  %rmdir  %run  %save  %sc  %set_env  %store  %sx  %system  %tb  %time  %timeit  %unalias  %unload_ext  %who  %who_ls  %whos  %xdel  %xmode\n",
       "\n",
       "Available cell magics:\n",
       "%%!  %%HTML  %%SVG  %%bash  %%capture  %%debug  %%file  %%html  %%javascript  %%js  %%latex  %%markdown  %%perl  %%prun  %%pypy  %%python  %%python2  %%python3  %%ruby  %%script  %%sh  %%svg  %%sx  %%system  %%time  %%timeit  %%writefile\n",
       "\n",
       "Automagic is ON, % prefix IS NOT needed for line magics."
      ]
     },
     "execution_count": 17,
     "metadata": {},
     "output_type": "execute_result"
    }
   ],
   "source": [
    "%lsmagic"
   ]
  },
  {
   "cell_type": "code",
   "execution_count": 18,
   "metadata": {},
   "outputs": [
    {
     "name": "stdout",
     "output_type": "stream",
     "text": [
      "\u001b[1m\u001b[36mApplications\u001b[m\u001b[m/      \u001b[1m\u001b[36mLibrary\u001b[m\u001b[m/           \u001b[1m\u001b[36mPictures\u001b[m\u001b[m/          \u001b[1m\u001b[36mminiconda3\u001b[m\u001b[m/\r\n",
      "\u001b[1m\u001b[36mDesktop\u001b[m\u001b[m/           ML Learning.ipynb  \u001b[1m\u001b[36mPublic\u001b[m\u001b[m/            \u001b[1m\u001b[36mwekafiles\u001b[m\u001b[m/\r\n",
      "\u001b[1m\u001b[36mDocuments\u001b[m\u001b[m/         \u001b[1m\u001b[36mMovies\u001b[m\u001b[m/            \u001b[1m\u001b[36mSnapshots\u001b[m\u001b[m/\r\n",
      "\u001b[1m\u001b[36mDownloads\u001b[m\u001b[m/         \u001b[1m\u001b[36mMusic\u001b[m\u001b[m/             \u001b[1m\u001b[36meclipse\u001b[m\u001b[m/\r\n"
     ]
    }
   ],
   "source": [
    "%ls"
   ]
  },
  {
   "cell_type": "code",
   "execution_count": 19,
   "metadata": {},
   "outputs": [],
   "source": [
    "%run?"
   ]
  },
  {
   "cell_type": "code",
   "execution_count": 20,
   "metadata": {},
   "outputs": [
    {
     "ename": "ModuleNotFoundError",
     "evalue": "No module named 'numpy'",
     "output_type": "error",
     "traceback": [
      "\u001b[0;31m---------------------------------------------------------------------------\u001b[0m",
      "\u001b[0;31mModuleNotFoundError\u001b[0m                       Traceback (most recent call last)",
      "\u001b[0;32m<ipython-input-20-0aa0b027fcb6>\u001b[0m in \u001b[0;36m<module>\u001b[0;34m\u001b[0m\n\u001b[0;32m----> 1\u001b[0;31m \u001b[0;32mimport\u001b[0m \u001b[0mnumpy\u001b[0m \u001b[0;32mas\u001b[0m \u001b[0mnp\u001b[0m\u001b[0;34m\u001b[0m\u001b[0;34m\u001b[0m\u001b[0m\n\u001b[0m",
      "\u001b[0;31mModuleNotFoundError\u001b[0m: No module named 'numpy'"
     ]
    }
   ],
   "source": [
    "import numpy as np"
   ]
  },
  {
   "cell_type": "code",
   "execution_count": 21,
   "metadata": {},
   "outputs": [
    {
     "ename": "ModuleNotFoundError",
     "evalue": "No module named 'numpy'",
     "output_type": "error",
     "traceback": [
      "\u001b[0;31m---------------------------------------------------------------------------\u001b[0m",
      "\u001b[0;31mModuleNotFoundError\u001b[0m                       Traceback (most recent call last)",
      "\u001b[0;32m<ipython-input-21-0aa0b027fcb6>\u001b[0m in \u001b[0;36m<module>\u001b[0;34m\u001b[0m\n\u001b[0;32m----> 1\u001b[0;31m \u001b[0;32mimport\u001b[0m \u001b[0mnumpy\u001b[0m \u001b[0;32mas\u001b[0m \u001b[0mnp\u001b[0m\u001b[0;34m\u001b[0m\u001b[0;34m\u001b[0m\u001b[0m\n\u001b[0m",
      "\u001b[0;31mModuleNotFoundError\u001b[0m: No module named 'numpy'"
     ]
    }
   ],
   "source": [
    "import numpy as np"
   ]
  },
  {
   "cell_type": "code",
   "execution_count": 22,
   "metadata": {},
   "outputs": [
    {
     "ename": "ModuleNotFoundError",
     "evalue": "No module named 'numpy'",
     "output_type": "error",
     "traceback": [
      "\u001b[0;31m---------------------------------------------------------------------------\u001b[0m",
      "\u001b[0;31mModuleNotFoundError\u001b[0m                       Traceback (most recent call last)",
      "\u001b[0;32m<ipython-input-22-0aa0b027fcb6>\u001b[0m in \u001b[0;36m<module>\u001b[0;34m\u001b[0m\n\u001b[0;32m----> 1\u001b[0;31m \u001b[0;32mimport\u001b[0m \u001b[0mnumpy\u001b[0m \u001b[0;32mas\u001b[0m \u001b[0mnp\u001b[0m\u001b[0;34m\u001b[0m\u001b[0;34m\u001b[0m\u001b[0m\n\u001b[0m",
      "\u001b[0;31mModuleNotFoundError\u001b[0m: No module named 'numpy'"
     ]
    }
   ],
   "source": [
    "import numpy as np\n"
   ]
  },
  {
   "cell_type": "code",
   "execution_count": 4,
   "metadata": {},
   "outputs": [],
   "source": [
    "n = 10\n",
    "L = [i for i in range(n)]"
   ]
  },
  {
   "cell_type": "code",
   "execution_count": 5,
   "metadata": {},
   "outputs": [
    {
     "data": {
      "text/plain": [
       "[0, 1, 2, 3, 4, 5, 6, 7, 8, 9, 0, 1, 2, 3, 4, 5, 6, 7, 8, 9]"
      ]
     },
     "execution_count": 5,
     "metadata": {},
     "output_type": "execute_result"
    }
   ],
   "source": [
    "L * 2"
   ]
  },
  {
   "cell_type": "code",
   "execution_count": 8,
   "metadata": {},
   "outputs": [
    {
     "name": "stdout",
     "output_type": "stream",
     "text": [
      "CPU times: user 6 µs, sys: 0 ns, total: 6 µs\n",
      "Wall time: 7.87 µs\n"
     ]
    }
   ],
   "source": [
    "%%time\n",
    "A = []\n",
    "for e in L:\n",
    "    A.append(3*e)"
   ]
  },
  {
   "cell_type": "code",
   "execution_count": 9,
   "metadata": {},
   "outputs": [
    {
     "name": "stdout",
     "output_type": "stream",
     "text": [
      "CPU times: user 4 µs, sys: 0 ns, total: 4 µs\n",
      "Wall time: 7.39 µs\n"
     ]
    },
    {
     "data": {
      "text/plain": [
       "[0, 2, 4, 6, 8, 10, 12, 14, 16, 18]"
      ]
     },
     "execution_count": 9,
     "metadata": {},
     "output_type": "execute_result"
    }
   ],
   "source": [
    "%%time\n",
    "[e*2 for e in L]"
   ]
  },
  {
   "cell_type": "code",
   "execution_count": 10,
   "metadata": {},
   "outputs": [],
   "source": [
    "import numpy as np\n",
    "L = np.arange(10)"
   ]
  },
  {
   "cell_type": "code",
   "execution_count": 12,
   "metadata": {},
   "outputs": [
    {
     "name": "stdout",
     "output_type": "stream",
     "text": [
      "CPU times: user 174 µs, sys: 177 µs, total: 351 µs\n",
      "Wall time: 5.5 ms\n"
     ]
    }
   ],
   "source": [
    "%%time\n",
    "A = np.array([e*2 for e in L])"
   ]
  },
  {
   "cell_type": "code",
   "execution_count": 13,
   "metadata": {},
   "outputs": [
    {
     "data": {
      "text/plain": [
       "array([ 0,  2,  4,  6,  8, 10, 12, 14, 16, 18])"
      ]
     },
     "execution_count": 13,
     "metadata": {},
     "output_type": "execute_result"
    }
   ],
   "source": [
    "2*L"
   ]
  },
  {
   "cell_type": "code",
   "execution_count": 14,
   "metadata": {},
   "outputs": [
    {
     "data": {
      "text/plain": [
       "array([0. , 0.5, 1. , 1.5, 2. , 2.5, 3. , 3.5, 4. , 4.5])"
      ]
     },
     "execution_count": 14,
     "metadata": {},
     "output_type": "execute_result"
    }
   ],
   "source": [
    "L /2"
   ]
  },
  {
   "cell_type": "code",
   "execution_count": 15,
   "metadata": {},
   "outputs": [
    {
     "data": {
      "text/plain": [
       "array([ 0,  1,  4,  9, 16, 25, 36, 49, 64, 81])"
      ]
     },
     "execution_count": 15,
     "metadata": {},
     "output_type": "execute_result"
    }
   ],
   "source": [
    "L**2"
   ]
  },
  {
   "cell_type": "code",
   "execution_count": 16,
   "metadata": {},
   "outputs": [],
   "source": [
    "X = np.arange(15).reshape((3, 5))"
   ]
  },
  {
   "cell_type": "code",
   "execution_count": 17,
   "metadata": {},
   "outputs": [
    {
     "data": {
      "text/plain": [
       "array([[ 0,  1,  2,  3,  4],\n",
       "       [ 5,  6,  7,  8,  9],\n",
       "       [10, 11, 12, 13, 14]])"
      ]
     },
     "execution_count": 17,
     "metadata": {},
     "output_type": "execute_result"
    }
   ],
   "source": [
    "X"
   ]
  },
  {
   "cell_type": "code",
   "execution_count": 18,
   "metadata": {},
   "outputs": [
    {
     "data": {
      "text/plain": [
       "array([[ 0,  2,  4,  6,  8],\n",
       "       [10, 12, 14, 16, 18],\n",
       "       [20, 22, 24, 26, 28]])"
      ]
     },
     "execution_count": 18,
     "metadata": {},
     "output_type": "execute_result"
    }
   ],
   "source": [
    "X * 2"
   ]
  },
  {
   "cell_type": "code",
   "execution_count": 19,
   "metadata": {},
   "outputs": [
    {
     "data": {
      "text/plain": [
       "array([[ 1,  2,  3,  4,  5],\n",
       "       [ 6,  7,  8,  9, 10],\n",
       "       [11, 12, 13, 14, 15]])"
      ]
     },
     "execution_count": 19,
     "metadata": {},
     "output_type": "execute_result"
    }
   ],
   "source": [
    "X + 1"
   ]
  },
  {
   "cell_type": "code",
   "execution_count": 20,
   "metadata": {},
   "outputs": [
    {
     "data": {
      "text/plain": [
       "array([[0, 0, 1, 1, 2],\n",
       "       [2, 3, 3, 4, 4],\n",
       "       [5, 5, 6, 6, 7]])"
      ]
     },
     "execution_count": 20,
     "metadata": {},
     "output_type": "execute_result"
    }
   ],
   "source": [
    "X // 2"
   ]
  },
  {
   "cell_type": "code",
   "execution_count": 21,
   "metadata": {},
   "outputs": [
    {
     "data": {
      "text/plain": [
       "array([[0, 1, 0, 1, 0],\n",
       "       [1, 0, 1, 0, 1],\n",
       "       [0, 1, 0, 1, 0]])"
      ]
     },
     "execution_count": 21,
     "metadata": {},
     "output_type": "execute_result"
    }
   ],
   "source": [
    "X % 2"
   ]
  },
  {
   "cell_type": "code",
   "execution_count": 22,
   "metadata": {},
   "outputs": [
    {
     "name": "stderr",
     "output_type": "stream",
     "text": [
      "/Library/Frameworks/Python.framework/Versions/3.7/lib/python3.7/site-packages/ipykernel_launcher.py:1: RuntimeWarning: divide by zero encountered in true_divide\n",
      "  \"\"\"Entry point for launching an IPython kernel.\n"
     ]
    },
    {
     "data": {
      "text/plain": [
       "array([[       inf, 1.        , 0.5       , 0.33333333, 0.25      ],\n",
       "       [0.2       , 0.16666667, 0.14285714, 0.125     , 0.11111111],\n",
       "       [0.1       , 0.09090909, 0.08333333, 0.07692308, 0.07142857]])"
      ]
     },
     "execution_count": 22,
     "metadata": {},
     "output_type": "execute_result"
    }
   ],
   "source": [
    "1 / X"
   ]
  },
  {
   "cell_type": "code",
   "execution_count": 23,
   "metadata": {},
   "outputs": [
    {
     "data": {
      "text/plain": [
       "array([[ 0.        ,  0.84147098,  0.90929743,  0.14112001, -0.7568025 ],\n",
       "       [-0.95892427, -0.2794155 ,  0.6569866 ,  0.98935825,  0.41211849],\n",
       "       [-0.54402111, -0.99999021, -0.53657292,  0.42016704,  0.99060736]])"
      ]
     },
     "execution_count": 23,
     "metadata": {},
     "output_type": "execute_result"
    }
   ],
   "source": [
    "np.sin(X)"
   ]
  },
  {
   "cell_type": "code",
   "execution_count": 24,
   "metadata": {},
   "outputs": [
    {
     "data": {
      "text/plain": [
       "array([[ 1.        ,  0.54030231, -0.41614684, -0.9899925 , -0.65364362],\n",
       "       [ 0.28366219,  0.96017029,  0.75390225, -0.14550003, -0.91113026],\n",
       "       [-0.83907153,  0.0044257 ,  0.84385396,  0.90744678,  0.13673722]])"
      ]
     },
     "execution_count": 24,
     "metadata": {},
     "output_type": "execute_result"
    }
   ],
   "source": [
    "np.cos(X)"
   ]
  },
  {
   "cell_type": "code",
   "execution_count": 25,
   "metadata": {},
   "outputs": [
    {
     "data": {
      "text/plain": [
       "array([[ 0,  1,  2,  3,  4],\n",
       "       [ 5,  6,  7,  8,  9],\n",
       "       [10, 11, 12, 13, 14]])"
      ]
     },
     "execution_count": 25,
     "metadata": {},
     "output_type": "execute_result"
    }
   ],
   "source": [
    "np.abs(X)"
   ]
  },
  {
   "cell_type": "code",
   "execution_count": 26,
   "metadata": {},
   "outputs": [
    {
     "data": {
      "text/plain": [
       "array([[1.00000000e+00, 2.71828183e+00, 7.38905610e+00, 2.00855369e+01,\n",
       "        5.45981500e+01],\n",
       "       [1.48413159e+02, 4.03428793e+02, 1.09663316e+03, 2.98095799e+03,\n",
       "        8.10308393e+03],\n",
       "       [2.20264658e+04, 5.98741417e+04, 1.62754791e+05, 4.42413392e+05,\n",
       "        1.20260428e+06]])"
      ]
     },
     "execution_count": 26,
     "metadata": {},
     "output_type": "execute_result"
    }
   ],
   "source": [
    "np.exp(X)"
   ]
  },
  {
   "cell_type": "code",
   "execution_count": 29,
   "metadata": {},
   "outputs": [
    {
     "data": {
      "text/plain": [
       "array([[      1,       3,       9,      27,      81],\n",
       "       [    243,     729,    2187,    6561,   19683],\n",
       "       [  59049,  177147,  531441, 1594323, 4782969]])"
      ]
     },
     "execution_count": 29,
     "metadata": {},
     "output_type": "execute_result"
    }
   ],
   "source": [
    "3**X"
   ]
  },
  {
   "cell_type": "code",
   "execution_count": 28,
   "metadata": {},
   "outputs": [
    {
     "data": {
      "text/plain": [
       "array([[      1,       3,       9,      27,      81],\n",
       "       [    243,     729,    2187,    6561,   19683],\n",
       "       [  59049,  177147,  531441, 1594323, 4782969]])"
      ]
     },
     "execution_count": 28,
     "metadata": {},
     "output_type": "execute_result"
    }
   ],
   "source": [
    "np.power(3, X)"
   ]
  },
  {
   "cell_type": "code",
   "execution_count": 30,
   "metadata": {},
   "outputs": [
    {
     "data": {
      "text/plain": [
       "array([[ 0,  5, 10],\n",
       "       [ 1,  6, 11],\n",
       "       [ 2,  7, 12],\n",
       "       [ 3,  8, 13],\n",
       "       [ 4,  9, 14]])"
      ]
     },
     "execution_count": 30,
     "metadata": {},
     "output_type": "execute_result"
    }
   ],
   "source": [
    "X.T"
   ]
  },
  {
   "cell_type": "code",
   "execution_count": 31,
   "metadata": {},
   "outputs": [
    {
     "name": "stderr",
     "output_type": "stream",
     "text": [
      "/Library/Frameworks/Python.framework/Versions/3.7/lib/python3.7/site-packages/ipykernel_launcher.py:1: RuntimeWarning: divide by zero encountered in log\n",
      "  \"\"\"Entry point for launching an IPython kernel.\n"
     ]
    },
    {
     "data": {
      "text/plain": [
       "array([[      -inf, 0.        , 0.69314718, 1.09861229, 1.38629436],\n",
       "       [1.60943791, 1.79175947, 1.94591015, 2.07944154, 2.19722458],\n",
       "       [2.30258509, 2.39789527, 2.48490665, 2.56494936, 2.63905733]])"
      ]
     },
     "execution_count": 31,
     "metadata": {},
     "output_type": "execute_result"
    }
   ],
   "source": [
    "np.log(X)"
   ]
  },
  {
   "cell_type": "code",
   "execution_count": 32,
   "metadata": {},
   "outputs": [
    {
     "name": "stderr",
     "output_type": "stream",
     "text": [
      "/Library/Frameworks/Python.framework/Versions/3.7/lib/python3.7/site-packages/ipykernel_launcher.py:1: RuntimeWarning: divide by zero encountered in log2\n",
      "  \"\"\"Entry point for launching an IPython kernel.\n"
     ]
    },
    {
     "data": {
      "text/plain": [
       "array([[      -inf, 0.        , 1.        , 1.5849625 , 2.        ],\n",
       "       [2.32192809, 2.5849625 , 2.80735492, 3.        , 3.169925  ],\n",
       "       [3.32192809, 3.45943162, 3.5849625 , 3.70043972, 3.80735492]])"
      ]
     },
     "execution_count": 32,
     "metadata": {},
     "output_type": "execute_result"
    }
   ],
   "source": [
    "np.log2(X)"
   ]
  },
  {
   "cell_type": "code",
   "execution_count": 35,
   "metadata": {},
   "outputs": [],
   "source": [
    "D = np.full((2,3), 5)"
   ]
  },
  {
   "cell_type": "code",
   "execution_count": 34,
   "metadata": {},
   "outputs": [],
   "source": [
    "C = np.full((3,2), 3)"
   ]
  },
  {
   "cell_type": "code",
   "execution_count": 36,
   "metadata": {},
   "outputs": [
    {
     "ename": "ValueError",
     "evalue": "operands could not be broadcast together with shapes (3,2) (2,3) ",
     "output_type": "error",
     "traceback": [
      "\u001b[0;31m---------------------------------------------------------------------------\u001b[0m",
      "\u001b[0;31mValueError\u001b[0m                                Traceback (most recent call last)",
      "\u001b[0;32m<ipython-input-36-2abdcbb5130e>\u001b[0m in \u001b[0;36m<module>\u001b[0;34m\u001b[0m\n\u001b[0;32m----> 1\u001b[0;31m \u001b[0mC\u001b[0m \u001b[0;34m+\u001b[0m \u001b[0mD\u001b[0m\u001b[0;34m\u001b[0m\u001b[0;34m\u001b[0m\u001b[0m\n\u001b[0m",
      "\u001b[0;31mValueError\u001b[0m: operands could not be broadcast together with shapes (3,2) (2,3) "
     ]
    }
   ],
   "source": [
    "C + D"
   ]
  },
  {
   "cell_type": "code",
   "execution_count": 37,
   "metadata": {},
   "outputs": [
    {
     "ename": "ValueError",
     "evalue": "operands could not be broadcast together with shapes (3,2) (2,3) ",
     "output_type": "error",
     "traceback": [
      "\u001b[0;31m---------------------------------------------------------------------------\u001b[0m",
      "\u001b[0;31mValueError\u001b[0m                                Traceback (most recent call last)",
      "\u001b[0;32m<ipython-input-37-18331551399d>\u001b[0m in \u001b[0;36m<module>\u001b[0;34m\u001b[0m\n\u001b[0;32m----> 1\u001b[0;31m \u001b[0mC\u001b[0m \u001b[0;34m*\u001b[0m \u001b[0mD\u001b[0m\u001b[0;34m\u001b[0m\u001b[0;34m\u001b[0m\u001b[0m\n\u001b[0m",
      "\u001b[0;31mValueError\u001b[0m: operands could not be broadcast together with shapes (3,2) (2,3) "
     ]
    }
   ],
   "source": [
    "C * D"
   ]
  },
  {
   "cell_type": "code",
   "execution_count": 38,
   "metadata": {},
   "outputs": [
    {
     "data": {
      "text/plain": [
       "array([[30, 30, 30],\n",
       "       [30, 30, 30],\n",
       "       [30, 30, 30]])"
      ]
     },
     "execution_count": 38,
     "metadata": {},
     "output_type": "execute_result"
    }
   ],
   "source": [
    "C.dot(D)"
   ]
  },
  {
   "cell_type": "code",
   "execution_count": 39,
   "metadata": {},
   "outputs": [
    {
     "ename": "ValueError",
     "evalue": "operands could not be broadcast together with shapes (3,2) (2,3) ",
     "output_type": "error",
     "traceback": [
      "\u001b[0;31m---------------------------------------------------------------------------\u001b[0m",
      "\u001b[0;31mValueError\u001b[0m                                Traceback (most recent call last)",
      "\u001b[0;32m<ipython-input-39-410a640bb803>\u001b[0m in \u001b[0;36m<module>\u001b[0;34m\u001b[0m\n\u001b[0;32m----> 1\u001b[0;31m \u001b[0mC\u001b[0m \u001b[0;34m/\u001b[0m \u001b[0mD\u001b[0m\u001b[0;34m\u001b[0m\u001b[0;34m\u001b[0m\u001b[0m\n\u001b[0m",
      "\u001b[0;31mValueError\u001b[0m: operands could not be broadcast together with shapes (3,2) (2,3) "
     ]
    }
   ],
   "source": [
    "C / D"
   ]
  },
  {
   "cell_type": "code",
   "execution_count": 40,
   "metadata": {},
   "outputs": [],
   "source": [
    "z = np.array([1,2,3])"
   ]
  },
  {
   "cell_type": "code",
   "execution_count": 41,
   "metadata": {},
   "outputs": [
    {
     "data": {
      "text/plain": [
       "array([[6, 7, 8],\n",
       "       [6, 7, 8]])"
      ]
     },
     "execution_count": 41,
     "metadata": {},
     "output_type": "execute_result"
    }
   ],
   "source": [
    "z + D"
   ]
  },
  {
   "cell_type": "code",
   "execution_count": 42,
   "metadata": {},
   "outputs": [
    {
     "ename": "ValueError",
     "evalue": "operands could not be broadcast together with shapes (3,) (3,2) ",
     "output_type": "error",
     "traceback": [
      "\u001b[0;31m---------------------------------------------------------------------------\u001b[0m",
      "\u001b[0;31mValueError\u001b[0m                                Traceback (most recent call last)",
      "\u001b[0;32m<ipython-input-42-34baed5a104c>\u001b[0m in \u001b[0;36m<module>\u001b[0;34m\u001b[0m\n\u001b[0;32m----> 1\u001b[0;31m \u001b[0mz\u001b[0m \u001b[0;34m+\u001b[0m \u001b[0mC\u001b[0m\u001b[0;34m\u001b[0m\u001b[0;34m\u001b[0m\u001b[0m\n\u001b[0m",
      "\u001b[0;31mValueError\u001b[0m: operands could not be broadcast together with shapes (3,) (3,2) "
     ]
    }
   ],
   "source": [
    "z + C"
   ]
  },
  {
   "cell_type": "code",
   "execution_count": 43,
   "metadata": {},
   "outputs": [
    {
     "data": {
      "text/plain": [
       "array([1, 2, 3])"
      ]
     },
     "execution_count": 43,
     "metadata": {},
     "output_type": "execute_result"
    }
   ],
   "source": [
    "z"
   ]
  },
  {
   "cell_type": "code",
   "execution_count": 44,
   "metadata": {},
   "outputs": [
    {
     "data": {
      "text/plain": [
       "array([[5, 5, 5],\n",
       "       [5, 5, 5]])"
      ]
     },
     "execution_count": 44,
     "metadata": {},
     "output_type": "execute_result"
    }
   ],
   "source": [
    "D"
   ]
  },
  {
   "cell_type": "code",
   "execution_count": 45,
   "metadata": {},
   "outputs": [
    {
     "data": {
      "text/plain": [
       "array([[1, 2, 3],\n",
       "       [1, 2, 3]])"
      ]
     },
     "execution_count": 45,
     "metadata": {},
     "output_type": "execute_result"
    }
   ],
   "source": [
    "np.tile(z, (2, 1))"
   ]
  },
  {
   "cell_type": "code",
   "execution_count": 46,
   "metadata": {},
   "outputs": [
    {
     "data": {
      "text/plain": [
       "array([[6, 7, 8],\n",
       "       [6, 7, 8]])"
      ]
     },
     "execution_count": 46,
     "metadata": {},
     "output_type": "execute_result"
    }
   ],
   "source": [
    "np.tile(z, (2, 1)) + D"
   ]
  },
  {
   "cell_type": "code",
   "execution_count": 47,
   "metadata": {},
   "outputs": [
    {
     "data": {
      "text/plain": [
       "array([[6, 7, 8],\n",
       "       [6, 7, 8]])"
      ]
     },
     "execution_count": 47,
     "metadata": {},
     "output_type": "execute_result"
    }
   ],
   "source": [
    "z + D"
   ]
  },
  {
   "cell_type": "code",
   "execution_count": 48,
   "metadata": {},
   "outputs": [
    {
     "data": {
      "text/plain": [
       "array([[ 5, 10, 15],\n",
       "       [ 5, 10, 15]])"
      ]
     },
     "execution_count": 48,
     "metadata": {},
     "output_type": "execute_result"
    }
   ],
   "source": [
    "z * D"
   ]
  },
  {
   "cell_type": "code",
   "execution_count": 50,
   "metadata": {},
   "outputs": [
    {
     "data": {
      "text/plain": [
       "array([18, 18])"
      ]
     },
     "execution_count": 50,
     "metadata": {},
     "output_type": "execute_result"
    }
   ],
   "source": [
    "z.dot(C)"
   ]
  },
  {
   "cell_type": "code",
   "execution_count": 51,
   "metadata": {},
   "outputs": [
    {
     "data": {
      "text/plain": [
       "array([30, 30])"
      ]
     },
     "execution_count": 51,
     "metadata": {},
     "output_type": "execute_result"
    }
   ],
   "source": [
    "D.dot(z)"
   ]
  },
  {
   "cell_type": "code",
   "execution_count": 61,
   "metadata": {},
   "outputs": [
    {
     "ename": "LinAlgError",
     "evalue": "1-dimensional array given. Array must be at least two-dimensional",
     "output_type": "error",
     "traceback": [
      "\u001b[0;31m---------------------------------------------------------------------------\u001b[0m",
      "\u001b[0;31mLinAlgError\u001b[0m                               Traceback (most recent call last)",
      "\u001b[0;32m<ipython-input-61-d063fd85e79d>\u001b[0m in \u001b[0;36m<module>\u001b[0;34m\u001b[0m\n\u001b[0;32m----> 1\u001b[0;31m \u001b[0mnp\u001b[0m\u001b[0;34m.\u001b[0m\u001b[0mlinalg\u001b[0m\u001b[0;34m.\u001b[0m\u001b[0minv\u001b[0m\u001b[0;34m(\u001b[0m\u001b[0mz\u001b[0m\u001b[0;34m)\u001b[0m\u001b[0;34m\u001b[0m\u001b[0;34m\u001b[0m\u001b[0m\n\u001b[0m",
      "\u001b[0;32m~/Library/Python/3.7/lib/python/site-packages/numpy/linalg/linalg.py\u001b[0m in \u001b[0;36minv\u001b[0;34m(a)\u001b[0m\n\u001b[1;32m    543\u001b[0m     \"\"\"\n\u001b[1;32m    544\u001b[0m     \u001b[0ma\u001b[0m\u001b[0;34m,\u001b[0m \u001b[0mwrap\u001b[0m \u001b[0;34m=\u001b[0m \u001b[0m_makearray\u001b[0m\u001b[0;34m(\u001b[0m\u001b[0ma\u001b[0m\u001b[0;34m)\u001b[0m\u001b[0;34m\u001b[0m\u001b[0;34m\u001b[0m\u001b[0m\n\u001b[0;32m--> 545\u001b[0;31m     \u001b[0m_assertRankAtLeast2\u001b[0m\u001b[0;34m(\u001b[0m\u001b[0ma\u001b[0m\u001b[0;34m)\u001b[0m\u001b[0;34m\u001b[0m\u001b[0;34m\u001b[0m\u001b[0m\n\u001b[0m\u001b[1;32m    546\u001b[0m     \u001b[0m_assertNdSquareness\u001b[0m\u001b[0;34m(\u001b[0m\u001b[0ma\u001b[0m\u001b[0;34m)\u001b[0m\u001b[0;34m\u001b[0m\u001b[0;34m\u001b[0m\u001b[0m\n\u001b[1;32m    547\u001b[0m     \u001b[0mt\u001b[0m\u001b[0;34m,\u001b[0m \u001b[0mresult_t\u001b[0m \u001b[0;34m=\u001b[0m \u001b[0m_commonType\u001b[0m\u001b[0;34m(\u001b[0m\u001b[0ma\u001b[0m\u001b[0;34m)\u001b[0m\u001b[0;34m\u001b[0m\u001b[0;34m\u001b[0m\u001b[0m\n",
      "\u001b[0;32m~/Library/Python/3.7/lib/python/site-packages/numpy/linalg/linalg.py\u001b[0m in \u001b[0;36m_assertRankAtLeast2\u001b[0;34m(*arrays)\u001b[0m\n\u001b[1;32m    205\u001b[0m         \u001b[0;32mif\u001b[0m \u001b[0ma\u001b[0m\u001b[0;34m.\u001b[0m\u001b[0mndim\u001b[0m \u001b[0;34m<\u001b[0m \u001b[0;36m2\u001b[0m\u001b[0;34m:\u001b[0m\u001b[0;34m\u001b[0m\u001b[0;34m\u001b[0m\u001b[0m\n\u001b[1;32m    206\u001b[0m             raise LinAlgError('%d-dimensional array given. Array must be '\n\u001b[0;32m--> 207\u001b[0;31m                     'at least two-dimensional' % a.ndim)\n\u001b[0m\u001b[1;32m    208\u001b[0m \u001b[0;34m\u001b[0m\u001b[0m\n\u001b[1;32m    209\u001b[0m \u001b[0;32mdef\u001b[0m \u001b[0m_assertNdSquareness\u001b[0m\u001b[0;34m(\u001b[0m\u001b[0;34m*\u001b[0m\u001b[0marrays\u001b[0m\u001b[0;34m)\u001b[0m\u001b[0;34m:\u001b[0m\u001b[0;34m\u001b[0m\u001b[0;34m\u001b[0m\u001b[0m\n",
      "\u001b[0;31mLinAlgError\u001b[0m: 1-dimensional array given. Array must be at least two-dimensional"
     ]
    }
   ],
   "source": [
    "np.linalg.inv(z)"
   ]
  },
  {
   "cell_type": "code",
   "execution_count": 62,
   "metadata": {},
   "outputs": [],
   "source": [
    "G = np.full((3,3), 7)"
   ]
  },
  {
   "cell_type": "code",
   "execution_count": 63,
   "metadata": {},
   "outputs": [
    {
     "data": {
      "text/plain": [
       "array([[7, 7, 7],\n",
       "       [7, 7, 7],\n",
       "       [7, 7, 7]])"
      ]
     },
     "execution_count": 63,
     "metadata": {},
     "output_type": "execute_result"
    }
   ],
   "source": [
    "G"
   ]
  },
  {
   "cell_type": "code",
   "execution_count": 64,
   "metadata": {},
   "outputs": [
    {
     "ename": "LinAlgError",
     "evalue": "Singular matrix",
     "output_type": "error",
     "traceback": [
      "\u001b[0;31m---------------------------------------------------------------------------\u001b[0m",
      "\u001b[0;31mLinAlgError\u001b[0m                               Traceback (most recent call last)",
      "\u001b[0;32m<ipython-input-64-550470dcff20>\u001b[0m in \u001b[0;36m<module>\u001b[0;34m\u001b[0m\n\u001b[0;32m----> 1\u001b[0;31m \u001b[0mnp\u001b[0m\u001b[0;34m.\u001b[0m\u001b[0mlinalg\u001b[0m\u001b[0;34m.\u001b[0m\u001b[0minv\u001b[0m\u001b[0;34m(\u001b[0m\u001b[0mG\u001b[0m\u001b[0;34m)\u001b[0m\u001b[0;34m\u001b[0m\u001b[0;34m\u001b[0m\u001b[0m\n\u001b[0m",
      "\u001b[0;32m~/Library/Python/3.7/lib/python/site-packages/numpy/linalg/linalg.py\u001b[0m in \u001b[0;36minv\u001b[0;34m(a)\u001b[0m\n\u001b[1;32m    549\u001b[0m     \u001b[0msignature\u001b[0m \u001b[0;34m=\u001b[0m \u001b[0;34m'D->D'\u001b[0m \u001b[0;32mif\u001b[0m \u001b[0misComplexType\u001b[0m\u001b[0;34m(\u001b[0m\u001b[0mt\u001b[0m\u001b[0;34m)\u001b[0m \u001b[0;32melse\u001b[0m \u001b[0;34m'd->d'\u001b[0m\u001b[0;34m\u001b[0m\u001b[0;34m\u001b[0m\u001b[0m\n\u001b[1;32m    550\u001b[0m     \u001b[0mextobj\u001b[0m \u001b[0;34m=\u001b[0m \u001b[0mget_linalg_error_extobj\u001b[0m\u001b[0;34m(\u001b[0m\u001b[0m_raise_linalgerror_singular\u001b[0m\u001b[0;34m)\u001b[0m\u001b[0;34m\u001b[0m\u001b[0;34m\u001b[0m\u001b[0m\n\u001b[0;32m--> 551\u001b[0;31m     \u001b[0mainv\u001b[0m \u001b[0;34m=\u001b[0m \u001b[0m_umath_linalg\u001b[0m\u001b[0;34m.\u001b[0m\u001b[0minv\u001b[0m\u001b[0;34m(\u001b[0m\u001b[0ma\u001b[0m\u001b[0;34m,\u001b[0m \u001b[0msignature\u001b[0m\u001b[0;34m=\u001b[0m\u001b[0msignature\u001b[0m\u001b[0;34m,\u001b[0m \u001b[0mextobj\u001b[0m\u001b[0;34m=\u001b[0m\u001b[0mextobj\u001b[0m\u001b[0;34m)\u001b[0m\u001b[0;34m\u001b[0m\u001b[0;34m\u001b[0m\u001b[0m\n\u001b[0m\u001b[1;32m    552\u001b[0m     \u001b[0;32mreturn\u001b[0m \u001b[0mwrap\u001b[0m\u001b[0;34m(\u001b[0m\u001b[0mainv\u001b[0m\u001b[0;34m.\u001b[0m\u001b[0mastype\u001b[0m\u001b[0;34m(\u001b[0m\u001b[0mresult_t\u001b[0m\u001b[0;34m,\u001b[0m \u001b[0mcopy\u001b[0m\u001b[0;34m=\u001b[0m\u001b[0;32mFalse\u001b[0m\u001b[0;34m)\u001b[0m\u001b[0;34m)\u001b[0m\u001b[0;34m\u001b[0m\u001b[0;34m\u001b[0m\u001b[0m\n\u001b[1;32m    553\u001b[0m \u001b[0;34m\u001b[0m\u001b[0m\n",
      "\u001b[0;32m~/Library/Python/3.7/lib/python/site-packages/numpy/linalg/linalg.py\u001b[0m in \u001b[0;36m_raise_linalgerror_singular\u001b[0;34m(err, flag)\u001b[0m\n\u001b[1;32m     95\u001b[0m \u001b[0;34m\u001b[0m\u001b[0m\n\u001b[1;32m     96\u001b[0m \u001b[0;32mdef\u001b[0m \u001b[0m_raise_linalgerror_singular\u001b[0m\u001b[0;34m(\u001b[0m\u001b[0merr\u001b[0m\u001b[0;34m,\u001b[0m \u001b[0mflag\u001b[0m\u001b[0;34m)\u001b[0m\u001b[0;34m:\u001b[0m\u001b[0;34m\u001b[0m\u001b[0;34m\u001b[0m\u001b[0m\n\u001b[0;32m---> 97\u001b[0;31m     \u001b[0;32mraise\u001b[0m \u001b[0mLinAlgError\u001b[0m\u001b[0;34m(\u001b[0m\u001b[0;34m\"Singular matrix\"\u001b[0m\u001b[0;34m)\u001b[0m\u001b[0;34m\u001b[0m\u001b[0;34m\u001b[0m\u001b[0m\n\u001b[0m\u001b[1;32m     98\u001b[0m \u001b[0;34m\u001b[0m\u001b[0m\n\u001b[1;32m     99\u001b[0m \u001b[0;32mdef\u001b[0m \u001b[0m_raise_linalgerror_nonposdef\u001b[0m\u001b[0;34m(\u001b[0m\u001b[0merr\u001b[0m\u001b[0;34m,\u001b[0m \u001b[0mflag\u001b[0m\u001b[0;34m)\u001b[0m\u001b[0;34m:\u001b[0m\u001b[0;34m\u001b[0m\u001b[0;34m\u001b[0m\u001b[0m\n",
      "\u001b[0;31mLinAlgError\u001b[0m: Singular matrix"
     ]
    }
   ],
   "source": [
    "np.linalg.inv(G)"
   ]
  },
  {
   "cell_type": "code",
   "execution_count": 65,
   "metadata": {},
   "outputs": [],
   "source": [
    "F = np.array([[2,3],[7,1]])"
   ]
  },
  {
   "cell_type": "code",
   "execution_count": 66,
   "metadata": {},
   "outputs": [
    {
     "data": {
      "text/plain": [
       "array([[2, 3],\n",
       "       [7, 1]])"
      ]
     },
     "execution_count": 66,
     "metadata": {},
     "output_type": "execute_result"
    }
   ],
   "source": [
    "F"
   ]
  },
  {
   "cell_type": "code",
   "execution_count": 69,
   "metadata": {},
   "outputs": [],
   "source": [
    "Fi = np.linalg.inv(F)"
   ]
  },
  {
   "cell_type": "code",
   "execution_count": 68,
   "metadata": {},
   "outputs": [
    {
     "data": {
      "text/plain": [
       "array([[ 1.00000000e+00, -5.55111512e-17],\n",
       "       [ 0.00000000e+00,  1.00000000e+00]])"
      ]
     },
     "execution_count": 68,
     "metadata": {},
     "output_type": "execute_result"
    }
   ],
   "source": [
    "F.dot(np.linalg.inv(F))"
   ]
  },
  {
   "cell_type": "code",
   "execution_count": 70,
   "metadata": {},
   "outputs": [
    {
     "data": {
      "text/plain": [
       "array([[ 1.00000000e+00, -2.77555756e-17],\n",
       "       [ 0.00000000e+00,  1.00000000e+00]])"
      ]
     },
     "execution_count": 70,
     "metadata": {},
     "output_type": "execute_result"
    }
   ],
   "source": [
    "Fi.dot(F)"
   ]
  },
  {
   "cell_type": "code",
   "execution_count": 71,
   "metadata": {},
   "outputs": [
    {
     "ename": "LinAlgError",
     "evalue": "Last 2 dimensions of the array must be square",
     "output_type": "error",
     "traceback": [
      "\u001b[0;31m---------------------------------------------------------------------------\u001b[0m",
      "\u001b[0;31mLinAlgError\u001b[0m                               Traceback (most recent call last)",
      "\u001b[0;32m<ipython-input-71-91a532fd0c0a>\u001b[0m in \u001b[0;36m<module>\u001b[0;34m\u001b[0m\n\u001b[0;32m----> 1\u001b[0;31m \u001b[0mnp\u001b[0m\u001b[0;34m.\u001b[0m\u001b[0mlinalg\u001b[0m\u001b[0;34m.\u001b[0m\u001b[0minv\u001b[0m\u001b[0;34m(\u001b[0m\u001b[0mC\u001b[0m\u001b[0;34m)\u001b[0m\u001b[0;34m\u001b[0m\u001b[0;34m\u001b[0m\u001b[0m\n\u001b[0m",
      "\u001b[0;32m~/Library/Python/3.7/lib/python/site-packages/numpy/linalg/linalg.py\u001b[0m in \u001b[0;36minv\u001b[0;34m(a)\u001b[0m\n\u001b[1;32m    544\u001b[0m     \u001b[0ma\u001b[0m\u001b[0;34m,\u001b[0m \u001b[0mwrap\u001b[0m \u001b[0;34m=\u001b[0m \u001b[0m_makearray\u001b[0m\u001b[0;34m(\u001b[0m\u001b[0ma\u001b[0m\u001b[0;34m)\u001b[0m\u001b[0;34m\u001b[0m\u001b[0;34m\u001b[0m\u001b[0m\n\u001b[1;32m    545\u001b[0m     \u001b[0m_assertRankAtLeast2\u001b[0m\u001b[0;34m(\u001b[0m\u001b[0ma\u001b[0m\u001b[0;34m)\u001b[0m\u001b[0;34m\u001b[0m\u001b[0;34m\u001b[0m\u001b[0m\n\u001b[0;32m--> 546\u001b[0;31m     \u001b[0m_assertNdSquareness\u001b[0m\u001b[0;34m(\u001b[0m\u001b[0ma\u001b[0m\u001b[0;34m)\u001b[0m\u001b[0;34m\u001b[0m\u001b[0;34m\u001b[0m\u001b[0m\n\u001b[0m\u001b[1;32m    547\u001b[0m     \u001b[0mt\u001b[0m\u001b[0;34m,\u001b[0m \u001b[0mresult_t\u001b[0m \u001b[0;34m=\u001b[0m \u001b[0m_commonType\u001b[0m\u001b[0;34m(\u001b[0m\u001b[0ma\u001b[0m\u001b[0;34m)\u001b[0m\u001b[0;34m\u001b[0m\u001b[0;34m\u001b[0m\u001b[0m\n\u001b[1;32m    548\u001b[0m \u001b[0;34m\u001b[0m\u001b[0m\n",
      "\u001b[0;32m~/Library/Python/3.7/lib/python/site-packages/numpy/linalg/linalg.py\u001b[0m in \u001b[0;36m_assertNdSquareness\u001b[0;34m(*arrays)\u001b[0m\n\u001b[1;32m    211\u001b[0m         \u001b[0mm\u001b[0m\u001b[0;34m,\u001b[0m \u001b[0mn\u001b[0m \u001b[0;34m=\u001b[0m \u001b[0ma\u001b[0m\u001b[0;34m.\u001b[0m\u001b[0mshape\u001b[0m\u001b[0;34m[\u001b[0m\u001b[0;34m-\u001b[0m\u001b[0;36m2\u001b[0m\u001b[0;34m:\u001b[0m\u001b[0;34m]\u001b[0m\u001b[0;34m\u001b[0m\u001b[0;34m\u001b[0m\u001b[0m\n\u001b[1;32m    212\u001b[0m         \u001b[0;32mif\u001b[0m \u001b[0mm\u001b[0m \u001b[0;34m!=\u001b[0m \u001b[0mn\u001b[0m\u001b[0;34m:\u001b[0m\u001b[0;34m\u001b[0m\u001b[0;34m\u001b[0m\u001b[0m\n\u001b[0;32m--> 213\u001b[0;31m             \u001b[0;32mraise\u001b[0m \u001b[0mLinAlgError\u001b[0m\u001b[0;34m(\u001b[0m\u001b[0;34m'Last 2 dimensions of the array must be square'\u001b[0m\u001b[0;34m)\u001b[0m\u001b[0;34m\u001b[0m\u001b[0;34m\u001b[0m\u001b[0m\n\u001b[0m\u001b[1;32m    214\u001b[0m \u001b[0;34m\u001b[0m\u001b[0m\n\u001b[1;32m    215\u001b[0m \u001b[0;32mdef\u001b[0m \u001b[0m_assertFinite\u001b[0m\u001b[0;34m(\u001b[0m\u001b[0;34m*\u001b[0m\u001b[0marrays\u001b[0m\u001b[0;34m)\u001b[0m\u001b[0;34m:\u001b[0m\u001b[0;34m\u001b[0m\u001b[0;34m\u001b[0m\u001b[0m\n",
      "\u001b[0;31mLinAlgError\u001b[0m: Last 2 dimensions of the array must be square"
     ]
    }
   ],
   "source": [
    "np.linalg.inv(C)"
   ]
  },
  {
   "cell_type": "code",
   "execution_count": 73,
   "metadata": {},
   "outputs": [],
   "source": [
    "Cpinv = np.linalg.pinv(C)"
   ]
  },
  {
   "cell_type": "code",
   "execution_count": 74,
   "metadata": {},
   "outputs": [
    {
     "data": {
      "text/plain": [
       "(2, 3)"
      ]
     },
     "execution_count": 74,
     "metadata": {},
     "output_type": "execute_result"
    }
   ],
   "source": [
    "Cpinv.shape"
   ]
  },
  {
   "cell_type": "code",
   "execution_count": 75,
   "metadata": {},
   "outputs": [
    {
     "data": {
      "text/plain": [
       "array([[0.33333333, 0.33333333, 0.33333333],\n",
       "       [0.33333333, 0.33333333, 0.33333333],\n",
       "       [0.33333333, 0.33333333, 0.33333333]])"
      ]
     },
     "execution_count": 75,
     "metadata": {},
     "output_type": "execute_result"
    }
   ],
   "source": [
    "C.dot(Cpinv)"
   ]
  },
  {
   "cell_type": "code",
   "execution_count": 78,
   "metadata": {},
   "outputs": [
    {
     "data": {
      "text/plain": [
       "array([0.95944315, 0.99502984, 0.59030835, 0.77771632, 0.8553504 ,\n",
       "       0.30416639, 0.0797411 , 0.28929655, 0.79047218, 0.89544429,\n",
       "       0.19840844, 0.58410905, 0.74955929, 0.82455914, 0.44102481,\n",
       "       0.18774187, 0.7228848 , 0.76217141, 0.38572306, 0.03394969,\n",
       "       0.65797713, 0.91640172, 0.41421869, 0.70662219, 0.62531206,\n",
       "       0.51198929, 0.42609314, 0.78004531, 0.39174167, 0.79952842,\n",
       "       0.25850859, 0.90446916, 0.88333445, 0.93173217, 0.06432253,\n",
       "       0.72165362, 0.11206025, 0.46392505, 0.91266267, 0.43630992,\n",
       "       0.97791439, 0.81380682, 0.49238637, 0.01905233, 0.35572775,\n",
       "       0.59449446, 0.60059094, 0.06718285, 0.95790961, 0.87690147,\n",
       "       0.97567973, 0.44281362, 0.69247453, 0.69795644, 0.96678046,\n",
       "       0.70810696, 0.74386479, 0.58022076, 0.36535259, 0.32605963,\n",
       "       0.61243645, 0.38737545, 0.98291337, 0.63153805, 0.04993867,\n",
       "       0.81419967, 0.6864425 , 0.83780664, 0.66878218, 0.60139153,\n",
       "       0.11951224, 0.59293753, 0.41992762, 0.02503936, 0.31940011,\n",
       "       0.35858156, 0.07656871, 0.72521201, 0.01282487, 0.57124544,\n",
       "       0.99489129, 0.72082506, 0.1791889 , 0.29428899, 0.46302846,\n",
       "       0.94816428, 0.86683864, 0.59663054, 0.9500001 , 0.49483991,\n",
       "       0.90768555, 0.58321683, 0.87050751, 0.4631151 , 0.16529675,\n",
       "       0.88006221, 0.88800458, 0.73770605, 0.25532796, 0.3234947 ])"
      ]
     },
     "execution_count": 78,
     "metadata": {},
     "output_type": "execute_result"
    }
   ],
   "source": [
    "np.random.random(100)"
   ]
  },
  {
   "cell_type": "code",
   "execution_count": 79,
   "metadata": {},
   "outputs": [],
   "source": [
    "R = np.random.random(100)"
   ]
  },
  {
   "cell_type": "code",
   "execution_count": 80,
   "metadata": {},
   "outputs": [
    {
     "data": {
      "text/plain": [
       "array([0.93853827, 0.6440625 , 0.4434744 , 0.61617548, 0.05853897,\n",
       "       0.83851699, 0.38769516, 0.67676244, 0.74546549, 0.65540147,\n",
       "       0.23771476, 0.2990328 , 0.35615388, 0.76576687, 0.64010861,\n",
       "       0.01955811, 0.22244715, 0.99258187, 0.31853597, 0.07788123,\n",
       "       0.95098629, 0.76685986, 0.12482914, 0.85811755, 0.53730276,\n",
       "       0.94629254, 0.74962127, 0.95580703, 0.43833348, 0.77128974,\n",
       "       0.78436503, 0.16784053, 0.59033659, 0.97427993, 0.44876278,\n",
       "       0.17614124, 0.57939457, 0.73544858, 0.38027555, 0.24677858,\n",
       "       0.64251999, 0.05526944, 0.03055171, 0.55638059, 0.18390747,\n",
       "       0.17767795, 0.15500951, 0.52927127, 0.33873379, 0.44483598,\n",
       "       0.51524121, 0.29409773, 0.02113589, 0.49312541, 0.87415084,\n",
       "       0.46561246, 0.35876275, 0.98276218, 0.99837695, 0.44132333,\n",
       "       0.03088159, 0.93697785, 0.59903422, 0.22970317, 0.70270441,\n",
       "       0.47786173, 0.82813856, 0.27239146, 0.70352447, 0.21814117,\n",
       "       0.11839488, 0.00629438, 0.97696895, 0.14952145, 0.91645997,\n",
       "       0.05203928, 0.45047104, 0.86379735, 0.62915191, 0.14669406,\n",
       "       0.27087944, 0.32344412, 0.24765339, 0.29956626, 0.52414479,\n",
       "       0.65367125, 0.29978123, 0.97357313, 0.44127121, 0.19653395,\n",
       "       0.60862967, 0.15366285, 0.57071757, 0.31956708, 0.71371873,\n",
       "       0.08793711, 0.29346464, 0.38014528, 0.08732473, 0.86858632])"
      ]
     },
     "execution_count": 80,
     "metadata": {},
     "output_type": "execute_result"
    }
   ],
   "source": [
    "R"
   ]
  },
  {
   "cell_type": "code",
   "execution_count": 81,
   "metadata": {},
   "outputs": [
    {
     "data": {
      "text/plain": [
       "48.29964653784742"
      ]
     },
     "execution_count": 81,
     "metadata": {},
     "output_type": "execute_result"
    }
   ],
   "source": [
    "np.sum(R)"
   ]
  },
  {
   "cell_type": "code",
   "execution_count": 83,
   "metadata": {},
   "outputs": [
    {
     "data": {
      "text/plain": [
       "48.29964653784742"
      ]
     },
     "execution_count": 83,
     "metadata": {},
     "output_type": "execute_result"
    }
   ],
   "source": [
    "R.sum()"
   ]
  },
  {
   "cell_type": "code",
   "execution_count": 86,
   "metadata": {},
   "outputs": [
    {
     "name": "stdout",
     "output_type": "stream",
     "text": [
      "CPU times: user 48 µs, sys: 4 µs, total: 52 µs\n",
      "Wall time: 55.1 µs\n"
     ]
    }
   ],
   "source": [
    "%%time\n",
    "np.sum(R)\n",
    "R.sum()"
   ]
  },
  {
   "cell_type": "code",
   "execution_count": 87,
   "metadata": {},
   "outputs": [],
   "source": [
    "H = np.arange(100).reshape((10, 10))"
   ]
  },
  {
   "cell_type": "code",
   "execution_count": 88,
   "metadata": {},
   "outputs": [
    {
     "data": {
      "text/plain": [
       "49.5"
      ]
     },
     "execution_count": 88,
     "metadata": {},
     "output_type": "execute_result"
    }
   ],
   "source": [
    "np.mean(H)"
   ]
  },
  {
   "cell_type": "code",
   "execution_count": 89,
   "metadata": {},
   "outputs": [
    {
     "data": {
      "text/plain": [
       "49.5"
      ]
     },
     "execution_count": 89,
     "metadata": {},
     "output_type": "execute_result"
    }
   ],
   "source": [
    "np.median(H)"
   ]
  },
  {
   "cell_type": "code",
   "execution_count": 90,
   "metadata": {},
   "outputs": [
    {
     "data": {
      "text/plain": [
       "array([450, 460, 470, 480, 490, 500, 510, 520, 530, 540])"
      ]
     },
     "execution_count": 90,
     "metadata": {},
     "output_type": "execute_result"
    }
   ],
   "source": [
    "np.sum(H, axis=0)"
   ]
  },
  {
   "cell_type": "code",
   "execution_count": 91,
   "metadata": {},
   "outputs": [
    {
     "data": {
      "text/plain": [
       "array([ 45, 145, 245, 345, 445, 545, 645, 745, 845, 945])"
      ]
     },
     "execution_count": 91,
     "metadata": {},
     "output_type": "execute_result"
    }
   ],
   "source": [
    "np.sum(H, axis=1)"
   ]
  },
  {
   "cell_type": "code",
   "execution_count": 92,
   "metadata": {},
   "outputs": [
    {
     "data": {
      "text/plain": [
       "array([[ 0,  1,  2,  3,  4,  5,  6,  7,  8,  9],\n",
       "       [10, 11, 12, 13, 14, 15, 16, 17, 18, 19],\n",
       "       [20, 21, 22, 23, 24, 25, 26, 27, 28, 29],\n",
       "       [30, 31, 32, 33, 34, 35, 36, 37, 38, 39],\n",
       "       [40, 41, 42, 43, 44, 45, 46, 47, 48, 49],\n",
       "       [50, 51, 52, 53, 54, 55, 56, 57, 58, 59],\n",
       "       [60, 61, 62, 63, 64, 65, 66, 67, 68, 69],\n",
       "       [70, 71, 72, 73, 74, 75, 76, 77, 78, 79],\n",
       "       [80, 81, 82, 83, 84, 85, 86, 87, 88, 89],\n",
       "       [90, 91, 92, 93, 94, 95, 96, 97, 98, 99]])"
      ]
     },
     "execution_count": 92,
     "metadata": {},
     "output_type": "execute_result"
    }
   ],
   "source": [
    "H"
   ]
  },
  {
   "cell_type": "code",
   "execution_count": 94,
   "metadata": {},
   "outputs": [
    {
     "data": {
      "text/plain": [
       "0"
      ]
     },
     "execution_count": 94,
     "metadata": {},
     "output_type": "execute_result"
    }
   ],
   "source": [
    "np.prod(H+1)"
   ]
  },
  {
   "cell_type": "code",
   "execution_count": 95,
   "metadata": {},
   "outputs": [
    {
     "data": {
      "text/plain": [
       "array([[  1,   2,   3,   4,   5,   6,   7,   8,   9,  10],\n",
       "       [ 11,  12,  13,  14,  15,  16,  17,  18,  19,  20],\n",
       "       [ 21,  22,  23,  24,  25,  26,  27,  28,  29,  30],\n",
       "       [ 31,  32,  33,  34,  35,  36,  37,  38,  39,  40],\n",
       "       [ 41,  42,  43,  44,  45,  46,  47,  48,  49,  50],\n",
       "       [ 51,  52,  53,  54,  55,  56,  57,  58,  59,  60],\n",
       "       [ 61,  62,  63,  64,  65,  66,  67,  68,  69,  70],\n",
       "       [ 71,  72,  73,  74,  75,  76,  77,  78,  79,  80],\n",
       "       [ 81,  82,  83,  84,  85,  86,  87,  88,  89,  90],\n",
       "       [ 91,  92,  93,  94,  95,  96,  97,  98,  99, 100]])"
      ]
     },
     "execution_count": 95,
     "metadata": {},
     "output_type": "execute_result"
    }
   ],
   "source": [
    "H+1"
   ]
  },
  {
   "cell_type": "code",
   "execution_count": 100,
   "metadata": {},
   "outputs": [
    {
     "data": {
      "text/plain": [
       "49.5"
      ]
     },
     "execution_count": 100,
     "metadata": {},
     "output_type": "execute_result"
    }
   ],
   "source": [
    "np.percentile(H, q=50)"
   ]
  },
  {
   "cell_type": "code",
   "execution_count": 99,
   "metadata": {},
   "outputs": [
    {
     "data": {
      "text/plain": [
       "49.5"
      ]
     },
     "execution_count": 99,
     "metadata": {},
     "output_type": "execute_result"
    }
   ],
   "source": [
    "np.median(H)"
   ]
  },
  {
   "cell_type": "code",
   "execution_count": 101,
   "metadata": {},
   "outputs": [
    {
     "data": {
      "text/plain": [
       "99.0"
      ]
     },
     "execution_count": 101,
     "metadata": {},
     "output_type": "execute_result"
    }
   ],
   "source": [
    "np.percentile(H, q=100)"
   ]
  },
  {
   "cell_type": "code",
   "execution_count": 102,
   "metadata": {},
   "outputs": [
    {
     "name": "stdout",
     "output_type": "stream",
     "text": [
      "0.0\n",
      "24.75\n",
      "49.5\n",
      "74.25\n",
      "99.0\n"
     ]
    }
   ],
   "source": [
    "for percent in [0, 25, 50, 75, 100]:\n",
    "    print(np.percentile(H, percent))"
   ]
  },
  {
   "cell_type": "code",
   "execution_count": 103,
   "metadata": {},
   "outputs": [
    {
     "data": {
      "text/plain": [
       "833.25"
      ]
     },
     "execution_count": 103,
     "metadata": {},
     "output_type": "execute_result"
    }
   ],
   "source": [
    "np.var(H)"
   ]
  },
  {
   "cell_type": "code",
   "execution_count": 104,
   "metadata": {},
   "outputs": [
    {
     "data": {
      "text/plain": [
       "28.86607004772212"
      ]
     },
     "execution_count": 104,
     "metadata": {},
     "output_type": "execute_result"
    }
   ],
   "source": [
    "np.std(H)"
   ]
  },
  {
   "cell_type": "code",
   "execution_count": 105,
   "metadata": {},
   "outputs": [],
   "source": [
    "s = np.random.normal(0, 1, size=1000)"
   ]
  },
  {
   "cell_type": "code",
   "execution_count": 106,
   "metadata": {},
   "outputs": [
    {
     "data": {
      "text/plain": [
       "array([ 1.27122565e+00,  5.97664283e-02,  6.89736585e-01,  2.40810286e-01,\n",
       "        4.92770300e-01,  5.16411470e-01,  1.12244939e+00,  1.18916351e+00,\n",
       "        3.95817221e-02, -2.15350066e-01,  1.78979219e-02,  1.04034041e+00,\n",
       "       -1.58929602e+00, -8.88526422e-02, -9.50453287e-01,  1.12040468e+00,\n",
       "       -1.29272001e+00,  1.13376895e+00,  5.42290773e-01, -4.14173924e-01,\n",
       "        2.80059708e-01, -9.48128496e-01,  1.52446570e-01,  7.65979648e-02,\n",
       "       -9.87252024e-01, -1.25910481e+00,  6.83720554e-01,  9.85215174e-01,\n",
       "       -3.68430331e-01, -2.13018529e-01, -4.19777579e-01,  2.68708817e-01,\n",
       "        1.74734795e+00,  6.80145405e-01,  1.77058473e+00,  4.74979691e-01,\n",
       "       -6.90478333e-01,  7.35552332e-02, -9.20077529e-01,  6.10349707e-01,\n",
       "        1.41626092e-01, -6.17960370e-01,  2.19804477e-01, -1.03082451e+00,\n",
       "        9.01985418e-01, -5.10639105e-01,  1.92090030e-01,  6.75745070e-01,\n",
       "       -2.50056218e+00, -5.67284723e-01, -1.08861295e-01,  1.22739316e+00,\n",
       "        1.06997266e+00,  9.74731609e-01, -9.12692605e-01,  1.13850711e+00,\n",
       "        1.93777471e+00, -4.76953009e-01,  2.80314297e-01, -1.27355651e-01,\n",
       "       -6.33778433e-01,  9.10325233e-01, -5.19916061e-01, -8.45012516e-01,\n",
       "       -1.93349634e-01,  1.23210965e+00, -4.33059409e-01, -1.73561965e-02,\n",
       "        2.96021375e-01,  1.02564685e-02, -4.20876745e-01,  3.73055449e-01,\n",
       "       -1.90728977e+00,  2.06578378e-01, -1.42566952e+00, -3.66905425e-01,\n",
       "        5.27900966e-01,  3.56827365e-01,  2.45373956e+00,  4.83825497e-01,\n",
       "       -4.01390463e-01,  6.75220987e-01, -1.37621219e+00, -2.94405660e-01,\n",
       "       -2.87584925e-02,  1.74715120e+00, -8.21470503e-02,  7.23545629e-01,\n",
       "       -6.72583398e-02, -1.20145502e+00, -1.45631010e+00,  2.23562304e+00,\n",
       "        1.58223866e+00, -1.25515411e+00,  1.34351012e+00,  2.40668709e-01,\n",
       "        1.46946813e+00,  3.11269228e-02, -1.02285340e+00, -1.38981706e+00,\n",
       "       -1.26954935e+00,  1.10131192e+00,  2.33853029e+00,  2.19843578e-01,\n",
       "       -1.35639708e+00, -7.23569150e-02,  4.60452828e-01,  1.56609552e+00,\n",
       "        9.08144160e-01,  7.04309095e-01,  3.74058949e-01, -8.65301158e-01,\n",
       "        1.61208210e+00, -8.84016221e-01, -1.06153927e+00, -4.03472121e-01,\n",
       "       -4.47227486e-01,  1.54614168e-02,  1.24903010e-01, -1.83336797e-01,\n",
       "        7.38340489e-01,  7.03628722e-01,  1.10235873e+00,  9.18392002e-02,\n",
       "        9.67960200e-01, -1.51267313e+00,  8.45471843e-01,  7.72693885e-01,\n",
       "       -4.77572365e-01,  1.04117520e+00,  2.49981060e-01, -5.52413377e-01,\n",
       "        4.32004114e-01, -3.37396604e-01, -1.38757119e+00, -4.41557286e-01,\n",
       "        2.24952529e+00,  2.27663503e-01,  1.43510441e-01,  2.48378690e+00,\n",
       "        2.52586910e+00, -6.26997123e-01,  2.18205772e-01,  5.17899881e-04,\n",
       "       -3.30087699e-01,  2.08793085e-01, -2.65120469e+00,  7.41272370e-02,\n",
       "        2.83550253e-01,  1.34639639e+00,  2.31769865e-01, -6.17916182e-01,\n",
       "       -1.55022379e+00, -2.38600997e-01,  6.76870373e-01, -1.11150569e+00,\n",
       "       -9.53734435e-01,  1.12305109e+00,  1.72486296e+00, -1.01620852e-01,\n",
       "       -9.84393880e-01, -1.07161293e+00, -6.63274054e-01, -1.03284453e-01,\n",
       "        1.42773277e+00, -4.71054147e-01,  1.47396743e+00,  1.21006162e-01,\n",
       "        3.36545103e-01, -2.17801461e+00, -8.32259769e-01,  1.37692794e+00,\n",
       "        1.60930033e+00, -7.91188119e-01, -9.65598669e-01, -4.86095600e-01,\n",
       "        7.15493403e-02,  1.11387844e-01,  9.75988670e-01,  1.22736369e-01,\n",
       "       -5.91000269e-01,  9.44904343e-01, -9.58655181e-01, -5.49988833e-01,\n",
       "        1.63528546e+00, -1.56305876e+00, -1.37364484e+00, -1.61119383e+00,\n",
       "        9.31911873e-01,  6.69248177e-01, -3.16559502e-01, -1.43046452e-01,\n",
       "       -9.86933253e-01,  8.39580570e-01, -6.18754873e-01, -7.31110766e-01,\n",
       "        1.55691983e+00, -1.26002031e+00,  1.36671688e+00,  2.47193526e-01,\n",
       "        4.99187455e-02, -1.57559055e+00, -3.07055259e-01,  7.93984429e-01,\n",
       "        2.22348585e+00,  1.79431909e+00, -6.55772198e-01, -1.05681269e+00,\n",
       "       -2.77657772e-01,  5.22220709e-01,  4.40836635e-01, -2.60680320e-01,\n",
       "       -2.41611179e+00, -6.51508675e-01, -4.68210082e-01, -8.92710139e-01,\n",
       "       -7.39773933e-01,  2.02912562e-02, -1.76865960e-01,  1.21732959e+00,\n",
       "        3.77023737e-01,  2.02276411e+00, -8.99273197e-01, -5.64295480e-01,\n",
       "        1.45497630e+00, -6.97180276e-01, -9.82749091e-01, -9.21802244e-01,\n",
       "        5.07264561e-01, -2.33409022e-01, -1.48947097e+00, -7.80120497e-01,\n",
       "       -1.18662786e+00, -1.20133478e+00, -1.55536502e+00,  9.56075028e-01,\n",
       "       -2.56265111e-01,  8.38718178e-01,  4.25705603e-01,  4.36361989e-01,\n",
       "        1.85251258e-03, -3.49466212e-01, -4.01733899e-01, -2.57278012e+00,\n",
       "       -3.95725372e-01, -1.08384503e+00,  6.48309071e-01,  1.99264532e-01,\n",
       "        2.22547505e+00, -8.25876332e-01,  1.06142798e+00, -5.57845767e-01,\n",
       "        3.04775311e-01,  4.05356446e-01, -1.77609246e+00,  8.12384707e-01,\n",
       "       -7.54198822e-01, -9.34311364e-02,  1.72991431e+00, -3.36300902e-01,\n",
       "        2.45260179e-01,  2.00236558e+00,  7.68685616e-01,  4.16416816e-02,\n",
       "        3.20648303e-01, -1.47790205e+00, -1.56312371e+00, -8.93054293e-01,\n",
       "       -1.10846034e-01,  8.16964102e-03, -1.51522480e+00,  8.17910123e-01,\n",
       "       -2.88713649e-01,  1.43547445e+00,  1.17829127e+00, -1.21593459e-01,\n",
       "       -2.96813905e-01, -1.39209316e+00,  1.18785339e+00, -2.34975885e-02,\n",
       "       -8.63718392e-01, -1.98398128e-01,  9.28570960e-01,  2.84687696e-01,\n",
       "       -2.52856396e-01, -1.41980832e+00, -1.46728433e+00,  1.29101018e+00,\n",
       "        3.50438403e-01, -3.45279158e-01,  8.03938056e-01, -6.08373825e-01,\n",
       "        1.12006375e+00, -1.55791947e-01, -7.75416298e-01, -6.27169273e-01,\n",
       "       -1.23500970e+00,  2.89316441e-01, -1.97844844e-01, -1.13494380e+00,\n",
       "        1.56456444e+00,  1.67824251e+00,  3.38715332e-01, -5.62098411e-01,\n",
       "        2.36787240e+00, -1.18274390e+00,  4.12889073e-01,  2.52627670e-01,\n",
       "       -8.04039749e-01, -8.20735130e-01, -9.81005849e-01, -2.08681019e+00,\n",
       "        1.21547118e+00,  5.69335621e-01,  1.61320296e+00, -8.27731084e-01,\n",
       "        4.65632778e-02,  1.10666346e+00, -1.93066039e+00,  3.39091017e-02,\n",
       "       -7.50211978e-01,  4.58396595e-01, -1.34218639e+00, -1.66843977e+00,\n",
       "       -7.67493225e-01, -6.04313308e-01,  5.92516322e-01,  1.27302955e+00,\n",
       "        1.04455858e+00,  7.92634080e-01, -8.41673052e-02,  2.26973777e-01,\n",
       "        2.75597343e-01,  2.40185876e+00,  1.07236311e+00,  8.24840342e-01,\n",
       "        1.18325976e+00,  2.01813982e+00, -2.61498507e-01,  9.99160476e-02,\n",
       "       -6.81380497e-01,  1.32721195e+00, -7.58376802e-01, -5.63045997e-01,\n",
       "        1.29126060e+00, -7.85242886e-01, -9.90047521e-01, -4.59648137e-01,\n",
       "       -5.46542545e-01,  7.69664308e-01, -3.22049748e-01, -1.05344031e+00,\n",
       "       -5.57465116e-01,  9.57153055e-01, -1.24447962e+00,  1.64197242e+00,\n",
       "        5.46092650e-01, -8.08052276e-01,  5.13930560e-01,  8.42684973e-02,\n",
       "       -2.98247281e-01,  5.24009693e-01, -1.52575088e-01, -1.48580198e+00,\n",
       "        1.48657499e+00, -1.35981037e+00,  4.98682704e-01, -3.80202132e-01,\n",
       "       -7.62264140e-01,  9.19865227e-01,  9.52837510e-02,  4.22487545e-01,\n",
       "       -1.08732269e-01, -7.53890858e-01, -4.81634125e-01,  2.48993364e-01,\n",
       "       -6.60125867e-02,  4.14568899e-02,  1.76575948e+00, -1.47801803e-01,\n",
       "       -2.12695847e+00, -7.22247856e-01, -1.21237134e-02,  1.71319168e-01,\n",
       "       -8.76905849e-01,  4.53577596e-01,  1.56618852e+00, -7.23287213e-01,\n",
       "        1.60768517e+00, -1.95711392e+00, -9.25406250e-01, -4.93979674e-01,\n",
       "        1.69457892e+00,  3.45183651e-01, -6.98941790e-01, -9.44580916e-02,\n",
       "        7.34138118e-01, -1.24985039e+00,  1.08933709e+00,  1.64563031e-01,\n",
       "        1.90845531e-01,  2.67869046e-01,  1.28007773e+00,  2.23647609e-01,\n",
       "        4.18311001e-01,  1.65571284e+00, -1.24389114e+00,  3.48033827e-03,\n",
       "       -4.07369468e-01, -4.37553944e-02,  8.10942070e-01,  7.73282274e-01,\n",
       "        8.42739885e-01,  6.08910549e-01,  1.14776575e+00, -2.16966827e+00,\n",
       "        2.34749096e+00, -7.61256509e-01,  7.14614378e-01,  4.90291625e-01,\n",
       "       -3.36074041e-02, -1.82728473e+00,  5.70785999e-01, -1.13826457e+00,\n",
       "        1.17606465e+00,  2.50245765e+00,  8.04922800e-01,  8.83812884e-02,\n",
       "        4.69821557e-01, -6.06580983e-01,  5.68377025e-01,  7.36861136e-01,\n",
       "       -1.11646421e+00, -1.31643902e+00,  5.85108382e-01, -6.56024492e-01,\n",
       "       -1.26786267e-01,  2.03734870e-01,  2.60760312e+00,  8.15100598e-02,\n",
       "       -9.19371512e-01, -1.47805170e+00, -1.40728847e+00, -1.08495712e+00,\n",
       "       -4.89168659e-01, -9.88421570e-02,  2.02060840e-01, -5.85686017e-01,\n",
       "       -1.26162729e+00, -5.09261346e-02,  8.69556293e-01,  8.12898782e-01,\n",
       "        4.39317107e-01, -3.39881686e+00,  1.80624690e+00, -1.08449638e+00,\n",
       "       -1.17836297e+00, -9.63888578e-01,  2.63093707e-01,  3.68564259e-01,\n",
       "        1.13729572e-01, -3.28365029e-01,  1.58972634e-01,  2.44316571e-01,\n",
       "        6.69190013e-01, -1.74629947e+00,  3.75260138e-01, -3.49734249e-01,\n",
       "       -4.16363364e-01, -1.04164776e+00,  1.63741796e+00, -4.88458747e-01,\n",
       "       -8.66579186e-01,  2.72645659e+00,  1.58080875e+00, -1.24567946e+00,\n",
       "        1.30328853e+00,  1.00023791e-01,  7.83040060e-01,  2.40756592e-01,\n",
       "        1.88197975e+00, -1.51396788e+00,  1.88883429e-01, -3.94757318e-01,\n",
       "        1.05988007e+00, -1.83181172e-01, -9.24654926e-01, -1.00812849e+00,\n",
       "        5.33301459e-01, -2.35349633e-01, -4.34930474e-01,  1.35622035e+00,\n",
       "        4.02690773e-01, -2.71512523e-01, -3.06582064e-01,  1.60262848e+00,\n",
       "       -4.12411480e-01, -5.98632267e-01,  1.51431293e-01, -6.41945324e-02,\n",
       "        8.60764901e-01,  4.67149301e-01, -3.44185015e-01,  2.02631472e+00,\n",
       "       -1.00888100e-01, -5.58017049e-01,  1.97151344e+00,  2.58374077e-01,\n",
       "        1.77544588e-01,  4.52976795e-02, -3.90748291e-01,  2.35351761e+00,\n",
       "        9.13637257e-01,  2.74871653e-01,  1.43645356e-01, -1.48485365e+00,\n",
       "        7.06394972e-01,  1.79615428e+00,  1.76938413e-01, -3.02797860e-02,\n",
       "       -4.38130142e-01, -1.61390753e-02,  4.20929379e-01,  1.22830293e+00,\n",
       "       -3.60158013e-01, -2.37676813e-02, -9.12720912e-02,  1.13984779e+00,\n",
       "        2.35119019e-01, -1.66576313e-02,  1.77433812e-01,  5.19849353e-01,\n",
       "        6.39710515e-01,  1.09881752e+00, -3.27759967e-01, -2.30510909e+00,\n",
       "       -1.19084517e+00,  5.29148412e-02, -8.02868477e-01,  6.90037821e-01,\n",
       "       -1.35803221e+00,  1.64636422e+00,  4.73838059e-01,  2.15847672e+00,\n",
       "        4.55798457e-01, -1.18922863e+00, -2.04121657e+00,  1.12993929e+00,\n",
       "        6.92956121e-01, -2.26562254e+00, -3.73044565e-01,  2.38056484e-01,\n",
       "       -1.37729829e-01,  9.86201817e-01,  7.93082551e-01, -4.00401291e-01,\n",
       "       -2.01019524e-01, -2.88010929e-01,  7.07660937e-01,  2.48452012e-01,\n",
       "        1.83212830e+00, -1.01630400e+00,  4.70410586e-01, -1.40823338e+00,\n",
       "        5.76142363e-01,  5.99035402e-01,  1.14600910e+00, -1.36708970e+00,\n",
       "       -9.46115030e-01, -2.03408128e+00, -6.17586922e-01,  4.69255140e-01,\n",
       "        7.38094568e-01, -2.49006711e-01,  3.78048423e-01,  6.79246244e-01,\n",
       "        9.87368702e-01,  1.64283736e+00, -8.59320773e-01,  9.38680546e-01,\n",
       "        1.13737439e+00,  2.98885653e-01, -2.27806462e-01,  6.21537522e-01,\n",
       "       -1.38415504e-01,  1.67862839e-01,  5.02489314e-01, -3.54676143e-02,\n",
       "       -4.66672176e-01, -1.70266854e-01, -8.05002200e-01,  1.26515818e-01,\n",
       "       -1.55563232e-01,  6.25016591e-01,  6.05221160e-01, -2.99808200e-01,\n",
       "       -1.55997804e-01,  1.20551902e-01, -3.04148059e-01,  1.44561984e-02,\n",
       "       -2.99094113e-01,  4.53112459e-01, -1.41325001e+00, -1.17207295e+00,\n",
       "        1.21471056e+00, -7.82032222e-01,  6.91963988e-01,  5.40201595e-01,\n",
       "        1.37752379e+00,  1.05502389e+00, -4.22778437e-02,  7.11716852e-01,\n",
       "        3.38454378e-01, -1.57631003e+00, -4.23323266e-01, -8.10465033e-01,\n",
       "        8.71041120e-01, -1.36945444e+00, -3.39651381e-01, -9.80932092e-01,\n",
       "        3.68784030e-01, -2.07480012e+00,  1.71933998e-01,  9.58355973e-01,\n",
       "       -1.05092502e-01, -8.70795482e-01, -1.04351359e+00,  6.05830882e-01,\n",
       "       -2.79906899e-01, -6.77712662e-01,  2.52515325e-01,  1.12036790e+00,\n",
       "        7.93721480e-02,  6.05981815e-02, -5.93016538e-01,  4.17815133e-01,\n",
       "       -1.58578351e+00,  1.61918869e+00, -3.82998010e-01, -2.00034887e+00,\n",
       "       -6.37414759e-01,  5.08583501e-01,  3.93723943e-01,  9.78246128e-01,\n",
       "       -1.04140701e+00,  3.78412677e-01, -3.37181252e-01,  1.72991438e+00,\n",
       "       -9.25862232e-01, -1.33508761e+00, -1.85810537e+00, -6.66580724e-01,\n",
       "        1.14310159e+00,  1.09565838e+00, -4.99269190e-01,  5.67963255e-01,\n",
       "        5.70829681e-02, -1.53080579e+00, -1.30244713e+00,  3.20583668e-01,\n",
       "        3.84486935e-01, -3.13267798e-01,  1.27417765e+00, -1.89099673e-01,\n",
       "        1.35476734e+00,  7.28065280e-01,  2.30888817e+00,  1.46387746e+00,\n",
       "        1.07413558e+00,  4.88115775e-01, -2.75393140e-01, -5.02558378e-02,\n",
       "       -1.94972305e-01,  5.02693343e-01,  6.85722163e-01,  6.07679163e-01,\n",
       "       -3.03852572e-01, -1.42402595e+00,  3.26893350e-01,  1.91643433e-01,\n",
       "        4.99143441e-01, -2.01728487e-01,  3.75171000e-02,  8.83722075e-01,\n",
       "       -9.29398615e-02, -4.65722000e-01,  4.58492621e-01,  1.17019920e+00,\n",
       "       -3.63571328e-01, -1.32675863e+00,  1.48473775e+00, -4.29327996e-01,\n",
       "        4.28497053e-01, -9.00777159e-01,  6.09897523e-01, -1.25120822e+00,\n",
       "        1.11837223e+00,  1.39056200e+00,  1.00425936e+00,  1.23318529e+00,\n",
       "        1.33247119e+00, -1.37346703e+00,  9.31726940e-01,  2.62326144e-01,\n",
       "       -1.31091725e+00,  2.08337598e-01,  2.64922696e-01, -7.20149463e-01,\n",
       "       -3.24368702e-01, -7.23951008e-01,  1.30147284e+00, -5.46605902e-01,\n",
       "       -3.12959461e-01,  1.91015437e+00,  1.91817782e+00,  1.98879755e+00,\n",
       "       -8.29447987e-01,  1.40063095e+00, -4.02765446e-03,  1.40486134e+00,\n",
       "       -6.62484508e-01, -9.13053910e-01,  3.57050937e-01,  7.18682673e-01,\n",
       "       -1.04124783e+00, -6.96177507e-01,  9.11809785e-01,  3.21012790e-01,\n",
       "        3.73401032e-01,  6.17467383e-01, -5.40886548e-01,  1.88798464e-02,\n",
       "       -5.72113466e-01,  1.07068777e+00,  1.73299528e+00, -6.07021588e-01,\n",
       "        7.72970047e-01, -2.76148411e-01, -1.09869122e+00,  6.23046732e-01,\n",
       "       -9.84391493e-01,  7.54305446e-01, -1.04013745e+00, -9.42226209e-01,\n",
       "        4.73490822e-01,  1.41224716e-01,  1.08891219e+00, -1.34418689e+00,\n",
       "        1.32357819e+00,  2.13647577e-01, -1.59772585e+00,  1.39856770e+00,\n",
       "        7.51720119e-01,  4.06564231e-01,  2.70063323e-01, -1.14076583e-01,\n",
       "       -5.03911648e-02, -6.54455974e-01, -3.04606724e-01,  1.40016253e+00,\n",
       "       -1.07865324e+00,  3.25426771e-02,  1.22413553e+00, -1.25458850e+00,\n",
       "        1.21712687e-01,  1.25717565e+00,  1.46053003e+00, -3.47102156e-01,\n",
       "        5.66778101e-01,  3.14692794e-01, -8.56470656e-01, -1.67392550e+00,\n",
       "        1.14940372e+00, -9.30344727e-02, -6.64091023e-01,  2.03692365e-01,\n",
       "       -6.45741800e-01,  8.46766909e-01, -8.34862602e-01, -2.25811884e+00,\n",
       "       -3.96174213e-01, -2.14306320e-01, -1.84037997e-01, -1.26263389e+00,\n",
       "       -4.92689346e-01, -1.07553473e+00, -1.65516692e+00,  7.81294879e-01,\n",
       "        5.76994068e-01, -5.55451331e-02, -5.65813057e-01,  3.39653639e-02,\n",
       "       -2.88395676e-01, -1.09941585e+00, -2.40771966e-01, -6.64477048e-03,\n",
       "       -9.61965189e-02,  6.99332534e-01, -4.94932306e-01,  4.48918482e-01,\n",
       "       -3.32751046e-01,  2.34726649e+00, -1.72136603e+00,  1.61907354e+00,\n",
       "       -1.75718406e+00,  9.14800775e-01,  2.23533133e+00,  1.70027969e+00,\n",
       "       -5.42810479e-01, -1.49794611e+00, -6.45657564e-01,  7.86084140e-01,\n",
       "       -6.19518746e-01, -4.17932667e-02,  8.85423344e-01,  2.75419349e-01,\n",
       "        7.59604364e-02, -4.77943100e-02, -7.49835022e-01, -6.24654878e-02,\n",
       "       -6.29289730e-01, -5.59511737e-01,  1.22284239e+00, -7.20122231e-01,\n",
       "        5.74717892e-01,  1.03867653e-01,  3.61525459e-01, -2.45103013e-02,\n",
       "       -4.48322840e-01, -8.48370850e-02, -1.65249728e-01, -6.81762383e-01,\n",
       "        8.23853065e-01, -1.40070542e+00, -6.16144022e-01, -7.86106839e-01,\n",
       "       -1.73510704e-01,  1.68693189e-01,  3.75168336e-02,  5.24504352e-01,\n",
       "       -7.91700672e-01,  1.73525816e-01, -1.23376224e+00,  9.92198097e-01,\n",
       "        1.59016304e+00, -1.54927835e-01,  8.30699450e-01,  9.10532977e-01,\n",
       "       -1.08739810e+00,  1.65686671e+00,  2.79009454e-01,  1.05897897e+00,\n",
       "        2.49951806e-01,  2.16588796e-01, -4.24798785e-01,  9.88578069e-02,\n",
       "        3.48714075e-01,  1.40204469e+00,  3.78816032e-01, -1.16044628e+00,\n",
       "        8.49035396e-01, -3.28870509e-01,  2.98458346e-01, -6.07812087e-01,\n",
       "        3.03722058e-01,  1.35978669e+00, -1.32050356e+00,  2.12148243e+00,\n",
       "        2.14061797e-02, -1.47649581e-01, -1.45460259e+00, -5.05347580e-01,\n",
       "        2.38234355e-01, -6.48524411e-01,  1.60332029e+00,  6.43901852e-01,\n",
       "        7.65585495e-01, -2.03637689e+00,  4.63260113e-01, -6.53977205e-01,\n",
       "       -2.81219709e+00, -3.41750913e-01, -6.52881377e-01, -4.10327849e-01,\n",
       "       -1.39139050e-01, -1.36298262e+00,  1.35413438e-02, -1.92484026e-01,\n",
       "        7.88440630e-01, -1.20255754e+00, -9.41442712e-02, -1.24580267e+00,\n",
       "       -1.51074904e-01, -7.43660727e-01,  2.06175573e+00, -6.53394262e-01,\n",
       "        1.05531678e+00, -5.14496076e-01,  1.63173870e-01, -8.33337445e-01,\n",
       "       -1.26502694e+00, -8.81760319e-01,  3.81931779e-01,  1.33158509e+00,\n",
       "        4.49654498e-01, -1.72923569e+00,  1.83807419e+00, -5.73595162e-01,\n",
       "       -6.07404768e-01, -3.84341558e-02,  2.05191197e+00, -2.02091407e+00,\n",
       "        8.72866854e-01, -6.33831070e-01, -1.03819240e+00, -4.59646232e-01,\n",
       "        8.43517597e-01,  4.72866055e-01, -5.67955334e-01,  7.94511876e-01,\n",
       "       -2.21049503e-01,  1.02578150e+00,  7.41805661e-01, -1.52733724e+00,\n",
       "        1.52982720e-01,  2.85849849e-01, -8.26933168e-01,  5.74484973e-01,\n",
       "       -1.58578845e+00,  6.99938755e-01, -3.26193803e-01,  8.27863495e-01,\n",
       "       -5.52703727e-01, -5.03643950e-02,  2.47249898e-01, -2.02448009e+00,\n",
       "       -1.12762439e-01, -6.66910375e-01, -4.11820638e-02, -2.32175077e-01,\n",
       "       -9.70111465e-01,  2.57765727e+00,  3.38473729e-02,  9.77267471e-01,\n",
       "       -5.60192249e-02, -1.73170450e+00,  4.77683089e-01,  8.98576867e-01,\n",
       "       -1.16698808e+00, -7.49834578e-01, -1.44502732e+00,  5.30426946e-02,\n",
       "       -1.25141088e+00, -1.92991077e-01,  1.55125696e+00,  3.97623003e-01,\n",
       "        5.52171322e-01,  3.57792669e-01, -3.78245673e-01, -3.60002873e-01,\n",
       "       -1.25389086e+00,  4.14256308e-01,  3.26794800e-01, -9.81489820e-01,\n",
       "        9.29229124e-01,  1.94840600e+00, -5.57598632e-01,  1.79817719e+00,\n",
       "       -1.99845685e+00,  1.84475806e+00,  8.29630259e-01,  6.74842043e-01,\n",
       "       -1.15208859e+00,  3.28755660e-01,  2.20479967e+00,  9.67994855e-01,\n",
       "       -6.68471924e-01, -1.60728592e-01,  4.01122297e-01, -3.81410494e-02,\n",
       "       -7.91466532e-02,  3.63677146e-01,  1.10803663e+00, -8.98304229e-01,\n",
       "        5.55025528e-01, -1.10298021e+00, -2.17524938e+00, -9.45745251e-01,\n",
       "        5.01766402e-01,  5.43313960e-01,  6.32913864e-01, -1.06197488e+00,\n",
       "       -5.11531507e-01,  2.00790089e+00,  2.44227031e+00, -7.68123634e-01,\n",
       "        4.76069553e-02, -4.03401417e-01,  6.16331346e-01,  4.57306219e-01])"
      ]
     },
     "execution_count": 106,
     "metadata": {},
     "output_type": "execute_result"
    }
   ],
   "source": [
    "s"
   ]
  },
  {
   "cell_type": "code",
   "execution_count": 107,
   "metadata": {},
   "outputs": [
    {
     "data": {
      "text/plain": [
       "0.03881818580058934"
      ]
     },
     "execution_count": 107,
     "metadata": {},
     "output_type": "execute_result"
    }
   ],
   "source": [
    "np.mean(s)"
   ]
  },
  {
   "cell_type": "code",
   "execution_count": 108,
   "metadata": {},
   "outputs": [
    {
     "data": {
      "text/plain": [
       "0.9910259795579579"
      ]
     },
     "execution_count": 108,
     "metadata": {},
     "output_type": "execute_result"
    }
   ],
   "source": [
    "np.std(s)"
   ]
  },
  {
   "cell_type": "code",
   "execution_count": null,
   "metadata": {},
   "outputs": [],
   "source": []
  },
  {
   "cell_type": "code",
   "execution_count": null,
   "metadata": {},
   "outputs": [],
   "source": []
  },
  {
   "cell_type": "code",
   "execution_count": null,
   "metadata": {},
   "outputs": [],
   "source": []
  },
  {
   "cell_type": "code",
   "execution_count": null,
   "metadata": {},
   "outputs": [],
   "source": []
  },
  {
   "cell_type": "code",
   "execution_count": null,
   "metadata": {},
   "outputs": [],
   "source": []
  },
  {
   "cell_type": "code",
   "execution_count": null,
   "metadata": {},
   "outputs": [],
   "source": []
  }
 ],
 "metadata": {
  "kernelspec": {
   "display_name": "Python 3",
   "language": "python",
   "name": "python3"
  },
  "language_info": {
   "codemirror_mode": {
    "name": "ipython",
    "version": 3
   },
   "file_extension": ".py",
   "mimetype": "text/x-python",
   "name": "python",
   "nbconvert_exporter": "python",
   "pygments_lexer": "ipython3",
   "version": "3.7.3"
  }
 },
 "nbformat": 4,
 "nbformat_minor": 2
}
